{
 "cells": [
  {
   "cell_type": "code",
   "execution_count": 11,
   "metadata": {},
   "outputs": [],
   "source": [
    "import pandas as pd\n"
   ]
  },
  {
   "cell_type": "code",
   "execution_count": 12,
   "metadata": {},
   "outputs": [
    {
     "name": "stderr",
     "output_type": "stream",
     "text": [
      "C:\\Users\\Avidan.DESKTOP-RGG0UVA\\AppData\\Local\\Temp\\ipykernel_10816\\1938822136.py:1: DtypeWarning: Columns (30,31,32,33) have mixed types. Specify dtype option on import or set low_memory=False.\n",
      "  kickstarter_df = pd.read_csv(\"./inputs/kickstarter_data_full.csv\")\n"
     ]
    }
   ],
   "source": [
    "kickstarter_df = pd.read_csv(\"./inputs/kickstarter_data_full.csv\")\n"
   ]
  },
  {
   "cell_type": "code",
   "execution_count": 13,
   "metadata": {},
   "outputs": [],
   "source": [
    "kickstarter_df.drop(columns=[\"index\", \"Unnamed: 0\"], inplace=True)\n"
   ]
  },
  {
   "attachments": {},
   "cell_type": "markdown",
   "metadata": {},
   "source": [
    "# Naive feature selection"
   ]
  },
  {
   "cell_type": "code",
   "execution_count": 14,
   "metadata": {},
   "outputs": [],
   "source": [
    "kickstarter_df.drop(columns=\"id\", inplace=True)\n"
   ]
  },
  {
   "cell_type": "code",
   "execution_count": 15,
   "metadata": {},
   "outputs": [
    {
     "name": "stdout",
     "output_type": "stream",
     "text": [
      "<class 'pandas.core.frame.DataFrame'>\n",
      "RangeIndex: 20632 entries, 0 to 20631\n",
      "Data columns (total 66 columns):\n",
      " #   Column                       Non-Null Count  Dtype  \n",
      "---  ------                       --------------  -----  \n",
      " 0   photo                        20632 non-null  object \n",
      " 1   name                         20632 non-null  object \n",
      " 2   blurb                        20626 non-null  object \n",
      " 3   goal                         20632 non-null  float64\n",
      " 4   pledged                      20632 non-null  float64\n",
      " 5   state                        20632 non-null  object \n",
      " 6   slug                         20632 non-null  object \n",
      " 7   disable_communication        20632 non-null  bool   \n",
      " 8   country                      20632 non-null  object \n",
      " 9   currency                     20632 non-null  object \n",
      " 10  currency_symbol              20632 non-null  object \n",
      " 11  currency_trailing_code       20632 non-null  bool   \n",
      " 12  deadline                     20632 non-null  object \n",
      " 13  state_changed_at             20632 non-null  object \n",
      " 14  created_at                   20632 non-null  object \n",
      " 15  launched_at                  20632 non-null  object \n",
      " 16  staff_pick                   20632 non-null  bool   \n",
      " 17  backers_count                20632 non-null  int64  \n",
      " 18  static_usd_rate              20632 non-null  float64\n",
      " 19  usd_pledged                  20632 non-null  float64\n",
      " 20  creator                      20632 non-null  object \n",
      " 21  location                     20587 non-null  object \n",
      " 22  category                     18743 non-null  object \n",
      " 23  profile                      20632 non-null  object \n",
      " 24  spotlight                    20632 non-null  bool   \n",
      " 25  urls                         20632 non-null  object \n",
      " 26  source_url                   20632 non-null  object \n",
      " 27  friends                      60 non-null     object \n",
      " 28  is_starred                   60 non-null     object \n",
      " 29  is_backing                   60 non-null     object \n",
      " 30  permissions                  60 non-null     object \n",
      " 31  name_len                     20627 non-null  float64\n",
      " 32  name_len_clean               20627 non-null  float64\n",
      " 33  blurb_len                    20627 non-null  float64\n",
      " 34  blurb_len_clean              20627 non-null  float64\n",
      " 35  deadline_weekday             20632 non-null  object \n",
      " 36  state_changed_at_weekday     20632 non-null  object \n",
      " 37  created_at_weekday           20632 non-null  object \n",
      " 38  launched_at_weekday          20632 non-null  object \n",
      " 39  deadline_month               20632 non-null  int64  \n",
      " 40  deadline_day                 20632 non-null  int64  \n",
      " 41  deadline_yr                  20632 non-null  int64  \n",
      " 42  deadline_hr                  20632 non-null  int64  \n",
      " 43  state_changed_at_month       20632 non-null  int64  \n",
      " 44  state_changed_at_day         20632 non-null  int64  \n",
      " 45  state_changed_at_yr          20632 non-null  int64  \n",
      " 46  state_changed_at_hr          20632 non-null  int64  \n",
      " 47  created_at_month             20632 non-null  int64  \n",
      " 48  created_at_day               20632 non-null  int64  \n",
      " 49  created_at_yr                20632 non-null  int64  \n",
      " 50  created_at_hr                20632 non-null  int64  \n",
      " 51  launched_at_month            20632 non-null  int64  \n",
      " 52  launched_at_day              20632 non-null  int64  \n",
      " 53  launched_at_yr               20632 non-null  int64  \n",
      " 54  launched_at_hr               20632 non-null  int64  \n",
      " 55  create_to_launch             20632 non-null  object \n",
      " 56  launch_to_deadline           20632 non-null  object \n",
      " 57  launch_to_state_change       20632 non-null  object \n",
      " 58  create_to_launch_days        20632 non-null  int64  \n",
      " 59  launch_to_deadline_days      20632 non-null  int64  \n",
      " 60  launch_to_state_change_days  20632 non-null  int64  \n",
      " 61  SuccessfulBool               20632 non-null  int64  \n",
      " 62  USorGB                       20632 non-null  int64  \n",
      " 63  TOPCOUNTRY                   20632 non-null  int64  \n",
      " 64  LaunchedTuesday              20632 non-null  int64  \n",
      " 65  DeadlineWeekend              20632 non-null  int64  \n",
      "dtypes: bool(4), float64(8), int64(25), object(29)\n",
      "memory usage: 9.8+ MB\n"
     ]
    }
   ],
   "source": [
    "kickstarter_df.info()\n"
   ]
  },
  {
   "attachments": {},
   "cell_type": "markdown",
   "metadata": {},
   "source": [
    "# Remove features with more that 50% missing values"
   ]
  },
  {
   "cell_type": "code",
   "execution_count": 16,
   "metadata": {},
   "outputs": [],
   "source": [
    "kickstarter_df.drop(\n",
    "    columns=[\"friends\", \"is_starred\", \"is_backing\", \"permissions\"], inplace=True\n",
    ")\n"
   ]
  },
  {
   "attachments": {},
   "cell_type": "markdown",
   "metadata": {},
   "source": [
    "# Remove features with zero variance"
   ]
  },
  {
   "cell_type": "code",
   "execution_count": 17,
   "metadata": {},
   "outputs": [
    {
     "data": {
      "text/plain": [
       "Series([], dtype: int64)"
      ]
     },
     "execution_count": 17,
     "metadata": {},
     "output_type": "execute_result"
    }
   ],
   "source": [
    "kickstarter_df.nunique()[kickstarter_df.nunique() == 1]\n"
   ]
  },
  {
   "attachments": {},
   "cell_type": "markdown",
   "metadata": {},
   "source": [
    "# Check rows with missing values"
   ]
  },
  {
   "cell_type": "code",
   "execution_count": 18,
   "metadata": {},
   "outputs": [
    {
     "data": {
      "text/plain": [
       "1937"
      ]
     },
     "execution_count": 18,
     "metadata": {},
     "output_type": "execute_result"
    }
   ],
   "source": [
    "kickstarter_df.isnull().any(axis=1).sum()"
   ]
  },
  {
   "cell_type": "code",
   "execution_count": 19,
   "metadata": {},
   "outputs": [
    {
     "name": "stdout",
     "output_type": "stream",
     "text": [
      "<class 'pandas.core.frame.DataFrame'>\n",
      "Index: 1937 entries, 120 to 19583\n",
      "Data columns (total 62 columns):\n",
      " #   Column                       Non-Null Count  Dtype  \n",
      "---  ------                       --------------  -----  \n",
      " 0   photo                        1937 non-null   object \n",
      " 1   name                         1937 non-null   object \n",
      " 2   blurb                        1931 non-null   object \n",
      " 3   goal                         1937 non-null   float64\n",
      " 4   pledged                      1937 non-null   float64\n",
      " 5   state                        1937 non-null   object \n",
      " 6   slug                         1937 non-null   object \n",
      " 7   disable_communication        1937 non-null   bool   \n",
      " 8   country                      1937 non-null   object \n",
      " 9   currency                     1937 non-null   object \n",
      " 10  currency_symbol              1937 non-null   object \n",
      " 11  currency_trailing_code       1937 non-null   bool   \n",
      " 12  deadline                     1937 non-null   object \n",
      " 13  state_changed_at             1937 non-null   object \n",
      " 14  created_at                   1937 non-null   object \n",
      " 15  launched_at                  1937 non-null   object \n",
      " 16  staff_pick                   1937 non-null   bool   \n",
      " 17  backers_count                1937 non-null   int64  \n",
      " 18  static_usd_rate              1937 non-null   float64\n",
      " 19  usd_pledged                  1937 non-null   float64\n",
      " 20  creator                      1937 non-null   object \n",
      " 21  location                     1892 non-null   object \n",
      " 22  category                     48 non-null     object \n",
      " 23  profile                      1937 non-null   object \n",
      " 24  spotlight                    1937 non-null   bool   \n",
      " 25  urls                         1937 non-null   object \n",
      " 26  source_url                   1937 non-null   object \n",
      " 27  name_len                     1932 non-null   float64\n",
      " 28  name_len_clean               1932 non-null   float64\n",
      " 29  blurb_len                    1932 non-null   float64\n",
      " 30  blurb_len_clean              1932 non-null   float64\n",
      " 31  deadline_weekday             1937 non-null   object \n",
      " 32  state_changed_at_weekday     1937 non-null   object \n",
      " 33  created_at_weekday           1937 non-null   object \n",
      " 34  launched_at_weekday          1937 non-null   object \n",
      " 35  deadline_month               1937 non-null   int64  \n",
      " 36  deadline_day                 1937 non-null   int64  \n",
      " 37  deadline_yr                  1937 non-null   int64  \n",
      " 38  deadline_hr                  1937 non-null   int64  \n",
      " 39  state_changed_at_month       1937 non-null   int64  \n",
      " 40  state_changed_at_day         1937 non-null   int64  \n",
      " 41  state_changed_at_yr          1937 non-null   int64  \n",
      " 42  state_changed_at_hr          1937 non-null   int64  \n",
      " 43  created_at_month             1937 non-null   int64  \n",
      " 44  created_at_day               1937 non-null   int64  \n",
      " 45  created_at_yr                1937 non-null   int64  \n",
      " 46  created_at_hr                1937 non-null   int64  \n",
      " 47  launched_at_month            1937 non-null   int64  \n",
      " 48  launched_at_day              1937 non-null   int64  \n",
      " 49  launched_at_yr               1937 non-null   int64  \n",
      " 50  launched_at_hr               1937 non-null   int64  \n",
      " 51  create_to_launch             1937 non-null   object \n",
      " 52  launch_to_deadline           1937 non-null   object \n",
      " 53  launch_to_state_change       1937 non-null   object \n",
      " 54  create_to_launch_days        1937 non-null   int64  \n",
      " 55  launch_to_deadline_days      1937 non-null   int64  \n",
      " 56  launch_to_state_change_days  1937 non-null   int64  \n",
      " 57  SuccessfulBool               1937 non-null   int64  \n",
      " 58  USorGB                       1937 non-null   int64  \n",
      " 59  TOPCOUNTRY                   1937 non-null   int64  \n",
      " 60  LaunchedTuesday              1937 non-null   int64  \n",
      " 61  DeadlineWeekend              1937 non-null   int64  \n",
      "dtypes: bool(4), float64(8), int64(25), object(25)\n",
      "memory usage: 900.4+ KB\n"
     ]
    }
   ],
   "source": [
    "kickstarter_df[kickstarter_df.isnull().any(axis=1)].info()"
   ]
  },
  {
   "cell_type": "code",
   "execution_count": 20,
   "metadata": {},
   "outputs": [
    {
     "data": {
      "text/html": [
       "<div>\n",
       "<style scoped>\n",
       "    .dataframe tbody tr th:only-of-type {\n",
       "        vertical-align: middle;\n",
       "    }\n",
       "\n",
       "    .dataframe tbody tr th {\n",
       "        vertical-align: top;\n",
       "    }\n",
       "\n",
       "    .dataframe thead th {\n",
       "        text-align: right;\n",
       "    }\n",
       "</style>\n",
       "<table border=\"1\" class=\"dataframe\">\n",
       "  <thead>\n",
       "    <tr style=\"text-align: right;\">\n",
       "      <th></th>\n",
       "      <th>photo</th>\n",
       "      <th>name</th>\n",
       "      <th>blurb</th>\n",
       "      <th>goal</th>\n",
       "      <th>pledged</th>\n",
       "      <th>state</th>\n",
       "      <th>slug</th>\n",
       "      <th>disable_communication</th>\n",
       "      <th>country</th>\n",
       "      <th>currency</th>\n",
       "      <th>...</th>\n",
       "      <th>launch_to_deadline</th>\n",
       "      <th>launch_to_state_change</th>\n",
       "      <th>create_to_launch_days</th>\n",
       "      <th>launch_to_deadline_days</th>\n",
       "      <th>launch_to_state_change_days</th>\n",
       "      <th>SuccessfulBool</th>\n",
       "      <th>USorGB</th>\n",
       "      <th>TOPCOUNTRY</th>\n",
       "      <th>LaunchedTuesday</th>\n",
       "      <th>DeadlineWeekend</th>\n",
       "    </tr>\n",
       "  </thead>\n",
       "  <tbody>\n",
       "    <tr>\n",
       "      <th>0</th>\n",
       "      <td>{\"small\":\"https://ksr-ugc.imgix.net/assets/011...</td>\n",
       "      <td>Auntie Di's Music Time Sign ASL for Hearing an...</td>\n",
       "      <td>MTS ASL Curriculum Workbook is a reproducible ...</td>\n",
       "      <td>1500.0</td>\n",
       "      <td>0.0</td>\n",
       "      <td>failed</td>\n",
       "      <td>auntie-dis-music-time-sign-asl-for-hearing-and...</td>\n",
       "      <td>False</td>\n",
       "      <td>US</td>\n",
       "      <td>USD</td>\n",
       "      <td>...</td>\n",
       "      <td>36 days 20:47:24.000000000</td>\n",
       "      <td>36 days 20:47:24.000000000</td>\n",
       "      <td>17</td>\n",
       "      <td>36</td>\n",
       "      <td>36</td>\n",
       "      <td>0</td>\n",
       "      <td>1</td>\n",
       "      <td>1</td>\n",
       "      <td>0</td>\n",
       "      <td>0</td>\n",
       "    </tr>\n",
       "    <tr>\n",
       "      <th>1</th>\n",
       "      <td>{\"small\":\"https://ksr-ugc.imgix.net/assets/012...</td>\n",
       "      <td>Jump Start Kindergarten Toolkit</td>\n",
       "      <td>This kit teaches how to print, correct an ugly...</td>\n",
       "      <td>500.0</td>\n",
       "      <td>0.0</td>\n",
       "      <td>failed</td>\n",
       "      <td>jump-start-kindergarten-toolkit</td>\n",
       "      <td>False</td>\n",
       "      <td>US</td>\n",
       "      <td>USD</td>\n",
       "      <td>...</td>\n",
       "      <td>60 days 00:00:00.000000000</td>\n",
       "      <td>60 days 00:00:02.000000000</td>\n",
       "      <td>10</td>\n",
       "      <td>60</td>\n",
       "      <td>60</td>\n",
       "      <td>0</td>\n",
       "      <td>1</td>\n",
       "      <td>1</td>\n",
       "      <td>0</td>\n",
       "      <td>0</td>\n",
       "    </tr>\n",
       "    <tr>\n",
       "      <th>2</th>\n",
       "      <td>{\"small\":\"https://ksr-ugc.imgix.net/assets/012...</td>\n",
       "      <td>Ojukwu Balewa Awolowo (O.B.A.) Public Library ...</td>\n",
       "      <td>Establishing a free, world-class, public libra...</td>\n",
       "      <td>100000.0</td>\n",
       "      <td>120.0</td>\n",
       "      <td>failed</td>\n",
       "      <td>ojukwu-balewa-awolowo-oba-public-library-of-ni...</td>\n",
       "      <td>False</td>\n",
       "      <td>US</td>\n",
       "      <td>USD</td>\n",
       "      <td>...</td>\n",
       "      <td>60 days 00:00:00.000000000</td>\n",
       "      <td>60 days 00:00:01.000000000</td>\n",
       "      <td>1</td>\n",
       "      <td>60</td>\n",
       "      <td>60</td>\n",
       "      <td>0</td>\n",
       "      <td>1</td>\n",
       "      <td>1</td>\n",
       "      <td>0</td>\n",
       "      <td>0</td>\n",
       "    </tr>\n",
       "    <tr>\n",
       "      <th>3</th>\n",
       "      <td>{\"small\":\"https://ksr-ugc.imgix.net/assets/011...</td>\n",
       "      <td>MASTIZE - [mas-TAHYZ, MAS-tahyz]  - to spread</td>\n",
       "      <td>Goal: Introducing a new word into the English ...</td>\n",
       "      <td>5000.0</td>\n",
       "      <td>0.0</td>\n",
       "      <td>failed</td>\n",
       "      <td>mastize-mas-tahyz-mas-tahyz-to-spread</td>\n",
       "      <td>False</td>\n",
       "      <td>US</td>\n",
       "      <td>USD</td>\n",
       "      <td>...</td>\n",
       "      <td>30 days 00:00:00.000000000</td>\n",
       "      <td>30 days 00:00:00.000000000</td>\n",
       "      <td>0</td>\n",
       "      <td>30</td>\n",
       "      <td>30</td>\n",
       "      <td>0</td>\n",
       "      <td>1</td>\n",
       "      <td>1</td>\n",
       "      <td>0</td>\n",
       "      <td>0</td>\n",
       "    </tr>\n",
       "    <tr>\n",
       "      <th>4</th>\n",
       "      <td>{\"small\":\"https://ksr-ugc.imgix.net/assets/012...</td>\n",
       "      <td>Synopse der EU-DSGVO - Artikel, Erwägungsgründ...</td>\n",
       "      <td>Zu den Artikeln der DSGVO sind die korrespondi...</td>\n",
       "      <td>3222.0</td>\n",
       "      <td>356.0</td>\n",
       "      <td>failed</td>\n",
       "      <td>synopse-der-eu-dsgvo-artikel-erwagungsgrunde-bdsg</td>\n",
       "      <td>False</td>\n",
       "      <td>DE</td>\n",
       "      <td>EUR</td>\n",
       "      <td>...</td>\n",
       "      <td>32 days 06:02:33.000000000</td>\n",
       "      <td>32 days 06:02:33.000000000</td>\n",
       "      <td>0</td>\n",
       "      <td>32</td>\n",
       "      <td>32</td>\n",
       "      <td>0</td>\n",
       "      <td>0</td>\n",
       "      <td>0</td>\n",
       "      <td>0</td>\n",
       "      <td>0</td>\n",
       "    </tr>\n",
       "  </tbody>\n",
       "</table>\n",
       "<p>5 rows × 62 columns</p>\n",
       "</div>"
      ],
      "text/plain": [
       "                                               photo   \n",
       "0  {\"small\":\"https://ksr-ugc.imgix.net/assets/011...  \\\n",
       "1  {\"small\":\"https://ksr-ugc.imgix.net/assets/012...   \n",
       "2  {\"small\":\"https://ksr-ugc.imgix.net/assets/012...   \n",
       "3  {\"small\":\"https://ksr-ugc.imgix.net/assets/011...   \n",
       "4  {\"small\":\"https://ksr-ugc.imgix.net/assets/012...   \n",
       "\n",
       "                                                name   \n",
       "0  Auntie Di's Music Time Sign ASL for Hearing an...  \\\n",
       "1                    Jump Start Kindergarten Toolkit   \n",
       "2  Ojukwu Balewa Awolowo (O.B.A.) Public Library ...   \n",
       "3      MASTIZE - [mas-TAHYZ, MAS-tahyz]  - to spread   \n",
       "4  Synopse der EU-DSGVO - Artikel, Erwägungsgründ...   \n",
       "\n",
       "                                               blurb      goal  pledged   \n",
       "0  MTS ASL Curriculum Workbook is a reproducible ...    1500.0      0.0  \\\n",
       "1  This kit teaches how to print, correct an ugly...     500.0      0.0   \n",
       "2  Establishing a free, world-class, public libra...  100000.0    120.0   \n",
       "3  Goal: Introducing a new word into the English ...    5000.0      0.0   \n",
       "4  Zu den Artikeln der DSGVO sind die korrespondi...    3222.0    356.0   \n",
       "\n",
       "    state                                               slug   \n",
       "0  failed  auntie-dis-music-time-sign-asl-for-hearing-and...  \\\n",
       "1  failed                    jump-start-kindergarten-toolkit   \n",
       "2  failed  ojukwu-balewa-awolowo-oba-public-library-of-ni...   \n",
       "3  failed              mastize-mas-tahyz-mas-tahyz-to-spread   \n",
       "4  failed  synopse-der-eu-dsgvo-artikel-erwagungsgrunde-bdsg   \n",
       "\n",
       "   disable_communication country currency  ...          launch_to_deadline   \n",
       "0                  False      US      USD  ...  36 days 20:47:24.000000000  \\\n",
       "1                  False      US      USD  ...  60 days 00:00:00.000000000   \n",
       "2                  False      US      USD  ...  60 days 00:00:00.000000000   \n",
       "3                  False      US      USD  ...  30 days 00:00:00.000000000   \n",
       "4                  False      DE      EUR  ...  32 days 06:02:33.000000000   \n",
       "\n",
       "       launch_to_state_change create_to_launch_days launch_to_deadline_days   \n",
       "0  36 days 20:47:24.000000000                    17                      36  \\\n",
       "1  60 days 00:00:02.000000000                    10                      60   \n",
       "2  60 days 00:00:01.000000000                     1                      60   \n",
       "3  30 days 00:00:00.000000000                     0                      30   \n",
       "4  32 days 06:02:33.000000000                     0                      32   \n",
       "\n",
       "  launch_to_state_change_days SuccessfulBool  USorGB  TOPCOUNTRY   \n",
       "0                          36              0       1           1  \\\n",
       "1                          60              0       1           1   \n",
       "2                          60              0       1           1   \n",
       "3                          30              0       1           1   \n",
       "4                          32              0       0           0   \n",
       "\n",
       "   LaunchedTuesday  DeadlineWeekend  \n",
       "0                0                0  \n",
       "1                0                0  \n",
       "2                0                0  \n",
       "3                0                0  \n",
       "4                0                0  \n",
       "\n",
       "[5 rows x 62 columns]"
      ]
     },
     "execution_count": 20,
     "metadata": {},
     "output_type": "execute_result"
    }
   ],
   "source": [
    "kickstarter_df.head()"
   ]
  },
  {
   "cell_type": "code",
   "execution_count": null,
   "metadata": {},
   "outputs": [],
   "source": []
  }
 ],
 "metadata": {
  "kernelspec": {
   "display_name": "venv",
   "language": "python",
   "name": "python3"
  },
  "language_info": {
   "codemirror_mode": {
    "name": "ipython",
    "version": 3
   },
   "file_extension": ".py",
   "mimetype": "text/x-python",
   "name": "python",
   "nbconvert_exporter": "python",
   "pygments_lexer": "ipython3",
   "version": "3.10.10"
  },
  "orig_nbformat": 4
 },
 "nbformat": 4,
 "nbformat_minor": 2
}
