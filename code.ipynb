{
 "cells": [
  {
   "cell_type": "code",
   "execution_count": 1,
   "metadata": {},
   "outputs": [],
   "source": [
    "import pandas as pd\n"
   ]
  },
  {
   "cell_type": "code",
   "execution_count": 2,
   "metadata": {},
   "outputs": [
    {
     "name": "stderr",
     "output_type": "stream",
     "text": [
      "C:\\Users\\Avidan.DESKTOP-RGG0UVA\\AppData\\Local\\Temp\\ipykernel_9556\\890593941.py:1: DtypeWarning: Columns (30,31,32,33) have mixed types. Specify dtype option on import or set low_memory=False.\n",
      "  kickstarter_df = pd.read_csv(\"./inputs/kickstarter_data_full.csv\")\n"
     ]
    }
   ],
   "source": [
    "kickstarter_df = pd.read_csv(\"./inputs/kickstarter_data_full.csv\")\n"
   ]
  },
  {
   "cell_type": "code",
   "execution_count": 3,
   "metadata": {},
   "outputs": [],
   "source": [
    "kickstarter_df.drop(columns=[\"index\", \"Unnamed: 0\"], inplace=True)\n"
   ]
  },
  {
   "attachments": {},
   "cell_type": "markdown",
   "metadata": {},
   "source": [
    "# Naive feature selection"
   ]
  },
  {
   "cell_type": "code",
   "execution_count": 4,
   "metadata": {},
   "outputs": [],
   "source": [
    "kickstarter_df.drop(columns=\"id\", inplace=True)\n"
   ]
  },
  {
   "cell_type": "code",
   "execution_count": 5,
   "metadata": {},
   "outputs": [
    {
     "name": "stdout",
     "output_type": "stream",
     "text": [
      "<class 'pandas.core.frame.DataFrame'>\n",
      "RangeIndex: 20632 entries, 0 to 20631\n",
      "Data columns (total 66 columns):\n",
      " #   Column                       Non-Null Count  Dtype  \n",
      "---  ------                       --------------  -----  \n",
      " 0   photo                        20632 non-null  object \n",
      " 1   name                         20632 non-null  object \n",
      " 2   blurb                        20626 non-null  object \n",
      " 3   goal                         20632 non-null  float64\n",
      " 4   pledged                      20632 non-null  float64\n",
      " 5   state                        20632 non-null  object \n",
      " 6   slug                         20632 non-null  object \n",
      " 7   disable_communication        20632 non-null  bool   \n",
      " 8   country                      20632 non-null  object \n",
      " 9   currency                     20632 non-null  object \n",
      " 10  currency_symbol              20632 non-null  object \n",
      " 11  currency_trailing_code       20632 non-null  bool   \n",
      " 12  deadline                     20632 non-null  object \n",
      " 13  state_changed_at             20632 non-null  object \n",
      " 14  created_at                   20632 non-null  object \n",
      " 15  launched_at                  20632 non-null  object \n",
      " 16  staff_pick                   20632 non-null  bool   \n",
      " 17  backers_count                20632 non-null  int64  \n",
      " 18  static_usd_rate              20632 non-null  float64\n",
      " 19  usd_pledged                  20632 non-null  float64\n",
      " 20  creator                      20632 non-null  object \n",
      " 21  location                     20587 non-null  object \n",
      " 22  category                     18743 non-null  object \n",
      " 23  profile                      20632 non-null  object \n",
      " 24  spotlight                    20632 non-null  bool   \n",
      " 25  urls                         20632 non-null  object \n",
      " 26  source_url                   20632 non-null  object \n",
      " 27  friends                      60 non-null     object \n",
      " 28  is_starred                   60 non-null     object \n",
      " 29  is_backing                   60 non-null     object \n",
      " 30  permissions                  60 non-null     object \n",
      " 31  name_len                     20627 non-null  float64\n",
      " 32  name_len_clean               20627 non-null  float64\n",
      " 33  blurb_len                    20627 non-null  float64\n",
      " 34  blurb_len_clean              20627 non-null  float64\n",
      " 35  deadline_weekday             20632 non-null  object \n",
      " 36  state_changed_at_weekday     20632 non-null  object \n",
      " 37  created_at_weekday           20632 non-null  object \n",
      " 38  launched_at_weekday          20632 non-null  object \n",
      " 39  deadline_month               20632 non-null  int64  \n",
      " 40  deadline_day                 20632 non-null  int64  \n",
      " 41  deadline_yr                  20632 non-null  int64  \n",
      " 42  deadline_hr                  20632 non-null  int64  \n",
      " 43  state_changed_at_month       20632 non-null  int64  \n",
      " 44  state_changed_at_day         20632 non-null  int64  \n",
      " 45  state_changed_at_yr          20632 non-null  int64  \n",
      " 46  state_changed_at_hr          20632 non-null  int64  \n",
      " 47  created_at_month             20632 non-null  int64  \n",
      " 48  created_at_day               20632 non-null  int64  \n",
      " 49  created_at_yr                20632 non-null  int64  \n",
      " 50  created_at_hr                20632 non-null  int64  \n",
      " 51  launched_at_month            20632 non-null  int64  \n",
      " 52  launched_at_day              20632 non-null  int64  \n",
      " 53  launched_at_yr               20632 non-null  int64  \n",
      " 54  launched_at_hr               20632 non-null  int64  \n",
      " 55  create_to_launch             20632 non-null  object \n",
      " 56  launch_to_deadline           20632 non-null  object \n",
      " 57  launch_to_state_change       20632 non-null  object \n",
      " 58  create_to_launch_days        20632 non-null  int64  \n",
      " 59  launch_to_deadline_days      20632 non-null  int64  \n",
      " 60  launch_to_state_change_days  20632 non-null  int64  \n",
      " 61  SuccessfulBool               20632 non-null  int64  \n",
      " 62  USorGB                       20632 non-null  int64  \n",
      " 63  TOPCOUNTRY                   20632 non-null  int64  \n",
      " 64  LaunchedTuesday              20632 non-null  int64  \n",
      " 65  DeadlineWeekend              20632 non-null  int64  \n",
      "dtypes: bool(4), float64(8), int64(25), object(29)\n",
      "memory usage: 9.8+ MB\n"
     ]
    }
   ],
   "source": [
    "kickstarter_df.info()\n"
   ]
  },
  {
   "attachments": {},
   "cell_type": "markdown",
   "metadata": {},
   "source": [
    "# Remove features with more that 50% missing values"
   ]
  },
  {
   "cell_type": "code",
   "execution_count": 6,
   "metadata": {},
   "outputs": [],
   "source": [
    "kickstarter_df.drop(\n",
    "    columns=[\"friends\", \"is_starred\", \"is_backing\", \"permissions\"], inplace=True\n",
    ")\n"
   ]
  },
  {
   "attachments": {},
   "cell_type": "markdown",
   "metadata": {},
   "source": [
    "# Remove features with zero variance"
   ]
  },
  {
   "cell_type": "code",
   "execution_count": 15,
   "metadata": {},
   "outputs": [
    {
     "data": {
      "text/plain": [
       "Series([], dtype: int64)"
      ]
     },
     "execution_count": 15,
     "metadata": {},
     "output_type": "execute_result"
    }
   ],
   "source": [
    "kickstarter_df.nunique()[kickstarter_df.nunique() == 1]\n"
   ]
  },
  {
   "attachments": {},
   "cell_type": "markdown",
   "metadata": {},
   "source": [
    "# Check rows with missing values"
   ]
  },
  {
   "cell_type": "code",
   "execution_count": 23,
   "metadata": {},
   "outputs": [
    {
     "data": {
      "text/plain": [
       "1937"
      ]
     },
     "execution_count": 23,
     "metadata": {},
     "output_type": "execute_result"
    }
   ],
   "source": [
    "kickstarter_df.isnull().any(axis=1).sum()"
   ]
  },
  {
   "cell_type": "code",
   "execution_count": 25,
   "metadata": {},
   "outputs": [
    {
     "name": "stdout",
     "output_type": "stream",
     "text": [
      "<class 'pandas.core.frame.DataFrame'>\n",
      "Index: 1937 entries, 120 to 19583\n",
      "Data columns (total 62 columns):\n",
      " #   Column                       Non-Null Count  Dtype  \n",
      "---  ------                       --------------  -----  \n",
      " 0   photo                        1937 non-null   object \n",
      " 1   name                         1937 non-null   object \n",
      " 2   blurb                        1931 non-null   object \n",
      " 3   goal                         1937 non-null   float64\n",
      " 4   pledged                      1937 non-null   float64\n",
      " 5   state                        1937 non-null   object \n",
      " 6   slug                         1937 non-null   object \n",
      " 7   disable_communication        1937 non-null   bool   \n",
      " 8   country                      1937 non-null   object \n",
      " 9   currency                     1937 non-null   object \n",
      " 10  currency_symbol              1937 non-null   object \n",
      " 11  currency_trailing_code       1937 non-null   bool   \n",
      " 12  deadline                     1937 non-null   object \n",
      " 13  state_changed_at             1937 non-null   object \n",
      " 14  created_at                   1937 non-null   object \n",
      " 15  launched_at                  1937 non-null   object \n",
      " 16  staff_pick                   1937 non-null   bool   \n",
      " 17  backers_count                1937 non-null   int64  \n",
      " 18  static_usd_rate              1937 non-null   float64\n",
      " 19  usd_pledged                  1937 non-null   float64\n",
      " 20  creator                      1937 non-null   object \n",
      " 21  location                     1892 non-null   object \n",
      " 22  category                     48 non-null     object \n",
      " 23  profile                      1937 non-null   object \n",
      " 24  spotlight                    1937 non-null   bool   \n",
      " 25  urls                         1937 non-null   object \n",
      " 26  source_url                   1937 non-null   object \n",
      " 27  name_len                     1932 non-null   float64\n",
      " 28  name_len_clean               1932 non-null   float64\n",
      " 29  blurb_len                    1932 non-null   float64\n",
      " 30  blurb_len_clean              1932 non-null   float64\n",
      " 31  deadline_weekday             1937 non-null   object \n",
      " 32  state_changed_at_weekday     1937 non-null   object \n",
      " 33  created_at_weekday           1937 non-null   object \n",
      " 34  launched_at_weekday          1937 non-null   object \n",
      " 35  deadline_month               1937 non-null   int64  \n",
      " 36  deadline_day                 1937 non-null   int64  \n",
      " 37  deadline_yr                  1937 non-null   int64  \n",
      " 38  deadline_hr                  1937 non-null   int64  \n",
      " 39  state_changed_at_month       1937 non-null   int64  \n",
      " 40  state_changed_at_day         1937 non-null   int64  \n",
      " 41  state_changed_at_yr          1937 non-null   int64  \n",
      " 42  state_changed_at_hr          1937 non-null   int64  \n",
      " 43  created_at_month             1937 non-null   int64  \n",
      " 44  created_at_day               1937 non-null   int64  \n",
      " 45  created_at_yr                1937 non-null   int64  \n",
      " 46  created_at_hr                1937 non-null   int64  \n",
      " 47  launched_at_month            1937 non-null   int64  \n",
      " 48  launched_at_day              1937 non-null   int64  \n",
      " 49  launched_at_yr               1937 non-null   int64  \n",
      " 50  launched_at_hr               1937 non-null   int64  \n",
      " 51  create_to_launch             1937 non-null   object \n",
      " 52  launch_to_deadline           1937 non-null   object \n",
      " 53  launch_to_state_change       1937 non-null   object \n",
      " 54  create_to_launch_days        1937 non-null   int64  \n",
      " 55  launch_to_deadline_days      1937 non-null   int64  \n",
      " 56  launch_to_state_change_days  1937 non-null   int64  \n",
      " 57  SuccessfulBool               1937 non-null   int64  \n",
      " 58  USorGB                       1937 non-null   int64  \n",
      " 59  TOPCOUNTRY                   1937 non-null   int64  \n",
      " 60  LaunchedTuesday              1937 non-null   int64  \n",
      " 61  DeadlineWeekend              1937 non-null   int64  \n",
      "dtypes: bool(4), float64(8), int64(25), object(25)\n",
      "memory usage: 900.4+ KB\n"
     ]
    }
   ],
   "source": [
    "kickstarter_df[kickstarter_df.isnull().any(axis=1)].info()"
   ]
  },
  {
   "cell_type": "code",
   "execution_count": null,
   "metadata": {},
   "outputs": [],
   "source": []
  }
 ],
 "metadata": {
  "kernelspec": {
   "display_name": "venv",
   "language": "python",
   "name": "python3"
  },
  "language_info": {
   "codemirror_mode": {
    "name": "ipython",
    "version": 3
   },
   "file_extension": ".py",
   "mimetype": "text/x-python",
   "name": "python",
   "nbconvert_exporter": "python",
   "pygments_lexer": "ipython3",
   "version": "3.10.10"
  },
  "orig_nbformat": 4
 },
 "nbformat": 4,
 "nbformat_minor": 2
}
